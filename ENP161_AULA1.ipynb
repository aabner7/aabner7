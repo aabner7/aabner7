{
  "nbformat": 4,
  "nbformat_minor": 0,
  "metadata": {
    "colab": {
      "name": "ENP161_AULA1.ipynb",
      "provenance": [],
      "authorship_tag": "ABX9TyP0erYBmHAxfPDtl252LyeL",
      "include_colab_link": true
    },
    "kernelspec": {
      "name": "python3",
      "display_name": "Python 3"
    },
    "language_info": {
      "name": "python"
    }
  },
  "cells": [
    {
      "cell_type": "markdown",
      "metadata": {
        "id": "view-in-github",
        "colab_type": "text"
      },
      "source": [
        "<a href=\"https://colab.research.google.com/github/aabner7/aabner7/blob/main/ENP161_AULA1.ipynb\" target=\"_parent\"><img src=\"https://colab.research.google.com/assets/colab-badge.svg\" alt=\"Open In Colab\"/></a>"
      ]
    },
    {
      "cell_type": "code",
      "source": [
        "from google.colab import drive\n",
        "drive.mount('/content/gDrive/')\n",
        "%cd '/content/gDrive/MyDrive/ENP161'"
      ],
      "metadata": {
        "colab": {
          "base_uri": "https://localhost:8080/"
        },
        "id": "ORk1251hUp6V",
        "outputId": "9e0bc718-ae18-4f5c-a952-143e865cac0a"
      },
      "execution_count": null,
      "outputs": [
        {
          "output_type": "stream",
          "name": "stdout",
          "text": [
            "Mounted at /content/gDrive/\n"
          ]
        }
      ]
    },
    {
      "cell_type": "code",
      "execution_count": null,
      "metadata": {
        "colab": {
          "base_uri": "https://localhost:8080/"
        },
        "id": "VQjG1rHHTk7b",
        "outputId": "f1e5b20d-beaf-4be4-99eb-6b34d399ff56"
      },
      "outputs": [
        {
          "output_type": "stream",
          "name": "stdout",
          "text": [
            "/content/gDrive/MyDrive\n",
            "/content/gDrive/MyDrive/ENP161\n"
          ]
        }
      ],
      "source": [
        "%cd '/content/gDrive/MyDrive/'\n",
        "##%mkdir 'ENP161'\n",
        "%cd 'ENP161'"
      ]
    },
    {
      "cell_type": "markdown",
      "source": [
        "#Seção_2"
      ],
      "metadata": {
        "id": "dyGBnmEwUYA6"
      }
    },
    {
      "cell_type": "code",
      "source": [
        "\n",
        "\n",
        "import numpy as np\n",
        "pt1 = 0\n",
        "pt2 = 0\n",
        "v1=0\n",
        "v2=0\n",
        "saque = 0\n",
        "i=0\n",
        "while i<300:\n",
        "  while pt1<21 and pt2<21:\n",
        "      \n",
        "    if saque==0:\n",
        "      if np.random.rand() <=0.60:\n",
        "        pt1=pt1+1\n",
        "        #print(f'ponto do jogador {saque+1}, placar: {pt1}x{pt2}')\n",
        "      else:\n",
        "        saque = 1\n",
        "        #print(f'inversão de saque: {saque+1}')\n",
        "    else:\n",
        "      if np.random.rand() <=0.50:\n",
        "        saque = 0\n",
        "        #print(f'inversão de saque: {saque+1}')\n",
        "      else:\n",
        "        pt2=pt2+1 \n",
        "        #print(f'ponto do jogador {saque+1}, placar: {pt1}x{pt2}')     \n",
        "\n",
        "  if(pt1>pt2):\n",
        "    #print('Player 1 wins')\n",
        "    v1=v1+1\n",
        "  elif(pt2>pt1):\n",
        "    #print('Player 2 wins')\n",
        "    v2=v2+1\n",
        "  i=i+1\n",
        "  pt1 = 0\n",
        "  pt2 = 0\n",
        "  saque = 0\n",
        "\n",
        "print(f\"o player 1 teve {v1} vitórias em {i} jogos\")\n",
        "print(f\"o player 2 teve {v2} vitórias em {i} jogos\")"
      ],
      "metadata": {
        "colab": {
          "base_uri": "https://localhost:8080/",
          "height": 130
        },
        "id": "JzW6GNsBibYE",
        "outputId": "81dc3cac-ff34-4f86-b833-7af5b7308ed3"
      },
      "execution_count": 84,
      "outputs": [
        {
          "output_type": "error",
          "ename": "SyntaxError",
          "evalue": "ignored",
          "traceback": [
            "\u001b[0;36m  File \u001b[0;32m\"<ipython-input-84-725e37c87f4f>\"\u001b[0;36m, line \u001b[0;32m1\u001b[0m\n\u001b[0;31m    echo \"# catapimbas_aula1\" >> README.md\u001b[0m\n\u001b[0m                            ^\u001b[0m\n\u001b[0;31mSyntaxError\u001b[0m\u001b[0;31m:\u001b[0m invalid syntax\n"
          ]
        }
      ]
    },
    {
      "cell_type": "markdown",
      "source": [
        "##Seção_2.1 Sem Saque adv\n"
      ],
      "metadata": {
        "id": "nb7nPvDxUZFg"
      }
    },
    {
      "cell_type": "code",
      "source": [
        "import numpy as np\n",
        "pt1 = 0\n",
        "pt2 = 0\n",
        "v1=0\n",
        "v2=0\n",
        "saque = 0\n",
        "i=0\n",
        "while i<300:\n",
        "  while pt1<21 and pt2<21:      \n",
        "    if saque==0:\n",
        "      if np.random.rand() <=0.60:\n",
        "        pt1=pt1+1\n",
        "        #print(f'ponto do jogador {saque+1}, placar: {pt1}x{pt2}')\n",
        "      else:\n",
        "        pt2=pt2+1\n",
        "        saque=1\n",
        "        #print(f'ponto do jogador: {saque+2}, placar: {pt1}x{pt2}')\n",
        "    else:\n",
        "      if np.random.rand() <=0.40:\n",
        "        saque = 0\n",
        "        pt1=pt1+1\n",
        "        #print(f'ponto do jogador {saque+1}, placar: {pt1}x{pt2}')\n",
        "      else:\n",
        "        pt2=pt2+1 \n",
        "        #print(f'ponto do jogador {saque+1}, placar: {pt1}x{pt2}')     \n",
        "      \n",
        "  if(pt1>pt2):\n",
        "    #print('Player 1 wins \\n')\n",
        "    v1=v1+1\n",
        "  elif(pt2>pt1):\n",
        "    #print('Player 2 wins \\n')\n",
        "    v2=v2+1\n",
        "  pt1 = 0\n",
        "  pt2 = 0\n",
        "  saque = 0\n",
        "  i=i+1\n",
        "\n",
        "print(f\"o player 1 teve {v1} vitórias em {i} jogos\")\n",
        "print(f\"o player 2 teve {v2} vitórias em {i} jogos\")\n",
        "\n"
      ],
      "metadata": {
        "colab": {
          "base_uri": "https://localhost:8080/"
        },
        "id": "3ZktfjcepnBp",
        "outputId": "38713924-8f05-41f1-e96d-a8d0dee02f0e"
      },
      "execution_count": null,
      "outputs": [
        {
          "output_type": "stream",
          "name": "stdout",
          "text": [
            "o player 1 teve 145 vitórias em 300 jogos\n",
            "o player 2 teve 155 vitórias em 300 jogos\n"
          ]
        }
      ]
    }
  ]
}